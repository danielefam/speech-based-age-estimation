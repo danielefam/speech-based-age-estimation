{
 "cells": [
  {
   "cell_type": "code",
   "execution_count": 1,
   "metadata": {},
   "outputs": [],
   "source": [
    "import pandas as pd\n",
    "from utils.hdf5_utils import read_hdf5_to_dict\n",
    "from utils.preprocessing_audio_features import compute_audio_feature_stats"
   ]
  },
  {
   "cell_type": "code",
   "execution_count": 2,
   "metadata": {},
   "outputs": [
    {
     "name": "stdout",
     "output_type": "stream",
     "text": [
      "Data successfully loaded from data/audio_features_development.h5\n",
      "Data successfully loaded from data/audio_features_evaluation.h5\n"
     ]
    }
   ],
   "source": [
    "dev_data = read_hdf5_to_dict(file_path=\"data/audio_features_development.h5\")\n",
    "eval_data = read_hdf5_to_dict(file_path=\"data/audio_features_evaluation.h5\")"
   ]
  },
  {
   "cell_type": "code",
   "execution_count": 3,
   "metadata": {},
   "outputs": [],
   "source": [
    "df_dev = compute_audio_feature_stats(dev_data)\n",
    "df_eval = compute_audio_feature_stats(eval_data)"
   ]
  },
  {
   "cell_type": "code",
   "execution_count": 4,
   "metadata": {},
   "outputs": [],
   "source": [
    "df_spectral_dev, df_melspectrogram_dev, df_mfcc_deltas_dev, df_spectral_contrast_dev, df_fundamental_frequency_dev = pd.DataFrame(df_dev[0]), pd.DataFrame(df_dev[1]), pd.DataFrame(df_dev[2]), pd.DataFrame(df_dev[3]), pd.DataFrame(df_dev[4])\n",
    "df_spectral_eval, df_melspectrogram_eval, df_mfcc_deltas_eval, df_spectral_contrast_eval, df_fundamental_frequency_eval = pd.DataFrame(df_eval[0]), pd.DataFrame(df_eval[1]), pd.DataFrame(df_eval[2]), pd.DataFrame(df_eval[3]), pd.DataFrame(df_eval[4])"
   ]
  },
  {
   "cell_type": "code",
   "execution_count": 5,
   "metadata": {},
   "outputs": [],
   "source": [
    "df_spectral_dev['Id'] = df_spectral_dev[\"file_name\"].apply(lambda x: int(x.split(\".\")[0]) - 1).to_numpy()\n",
    "df_spectral_dev.sort_values(by=['Id'], inplace=True)\n",
    "df_spectral_dev.to_csv(\"data/dev_spectral_audio_features.csv\", index=False)\n",
    "\n",
    "df_melspectrogram_dev['Id'] = df_melspectrogram_dev[\"file_name\"].apply(lambda x: int(x.split(\".\")[0]) - 1).to_numpy()\n",
    "df_melspectrogram_dev.sort_values(by=['Id'], inplace=True)\n",
    "df_melspectrogram_dev.to_csv(\"data/dev_melspectrogram_audio_features.csv\", index=False)\n",
    "\n",
    "df_mfcc_deltas_dev['Id'] = df_mfcc_deltas_dev[\"file_name\"].apply(lambda x: int(x.split(\".\")[0]) - 1).to_numpy()\n",
    "df_mfcc_deltas_dev.sort_values(by=['Id'], inplace=True)\n",
    "df_mfcc_deltas_dev.to_csv(\"data/dev_mfcc_deltas_audio_features.csv\", index=False)\n",
    "\n",
    "df_spectral_contrast_dev['Id'] = df_spectral_contrast_dev[\"file_name\"].apply(lambda x: int(x.split(\".\")[0]) - 1).to_numpy()\n",
    "df_spectral_contrast_dev.sort_values(by=['Id'], inplace=True)\n",
    "df_spectral_contrast_dev.to_csv(\"data/dev_spectral_contrast_audio_features.csv\", index=False)\n",
    "\n",
    "df_fundamental_frequency_dev['Id'] = df_fundamental_frequency_dev[\"file_name\"].apply(lambda x: int(x.split(\".\")[0]) - 1).to_numpy()\n",
    "df_fundamental_frequency_dev.sort_values(by=['Id'], inplace=True)\n",
    "df_fundamental_frequency_dev.to_csv(\"data/dev_fundamental_frequency_audio_features.csv\", index=False)\n",
    "\n",
    "\n",
    "df_spectral_eval['Id'] = df_spectral_eval[\"file_name\"].apply(lambda x: int(x.split(\".\")[0]) - 1).to_numpy()\n",
    "df_spectral_eval.sort_values(by=['Id'], inplace=True)\n",
    "df_spectral_eval.to_csv(\"data/eval_spectral_audio_features.csv\", index=False)\n",
    "\n",
    "df_melspectrogram_eval['Id'] = df_melspectrogram_eval[\"file_name\"].apply(lambda x: int(x.split(\".\")[0]) - 1).to_numpy()\n",
    "df_melspectrogram_eval.sort_values(by=['Id'], inplace=True)\n",
    "df_melspectrogram_eval.to_csv(\"data/eval_melspectrogram_audio_features.csv\", index=False)\n",
    "\n",
    "df_mfcc_deltas_eval['Id'] = df_mfcc_deltas_eval[\"file_name\"].apply(lambda x: int(x.split(\".\")[0]) - 1).to_numpy()\n",
    "df_mfcc_deltas_eval.sort_values(by=['Id'], inplace=True)\n",
    "df_mfcc_deltas_eval.to_csv(\"data/eval_mfcc_deltas_audio_features.csv\", index=False)\n",
    "\n",
    "df_spectral_contrast_eval['Id'] = df_spectral_contrast_eval[\"file_name\"].apply(lambda x: int(x.split(\".\")[0]) - 1).to_numpy()\n",
    "df_spectral_contrast_eval.sort_values(by=['Id'], inplace=True)\n",
    "df_spectral_contrast_eval.to_csv(\"data/eval_spectral_contrast_audio_features.csv\", index=False)\n",
    "\n",
    "df_fundamental_frequency_eval['Id'] = df_fundamental_frequency_eval[\"file_name\"].apply(lambda x: int(x.split(\".\")[0]) - 1).to_numpy()\n",
    "df_fundamental_frequency_eval.sort_values(by=['Id'], inplace=True)\n",
    "df_fundamental_frequency_eval.to_csv(\"data/eval_fundamental_frequency_audio_features.csv\", index=False)"
   ]
  }
 ],
 "metadata": {
  "kernelspec": {
   "display_name": "base",
   "language": "python",
   "name": "python3"
  },
  "language_info": {
   "codemirror_mode": {
    "name": "ipython",
    "version": 3
   },
   "file_extension": ".py",
   "mimetype": "text/x-python",
   "name": "python",
   "nbconvert_exporter": "python",
   "pygments_lexer": "ipython3",
   "version": "3.12.7"
  }
 },
 "nbformat": 4,
 "nbformat_minor": 2
}
